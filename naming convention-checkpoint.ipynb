{
 "cells": [
  {
   "cell_type": "markdown",
   "id": "c81f4f7c-c2d9-47da-91b7-3231d7882902",
   "metadata": {},
   "source": [
    "How to use variables,identifier "
   ]
  },
  {
   "cell_type": "code",
   "execution_count": 7,
   "id": "b7f7b3e7-fd22-4666-8001-5c4d06161435",
   "metadata": {},
   "outputs": [
    {
     "ename": "SyntaxError",
     "evalue": "invalid decimal literal (1881863838.py, line 1)",
     "output_type": "error",
     "traceback": [
      "\u001b[1;36m  Cell \u001b[1;32mIn[7], line 1\u001b[1;36m\u001b[0m\n\u001b[1;33m    1a=5\u001b[0m\n\u001b[1;37m    ^\u001b[0m\n\u001b[1;31mSyntaxError\u001b[0m\u001b[1;31m:\u001b[0m invalid decimal literal\n"
     ]
    }
   ],
   "source": [
    "1a=5\n",
    "print(1a)\n",
    "#var 1a throws an syntax error which means , numeric value are not allowed as 1st letter in variable naming\n",
    "#this codes is not worked"
   ]
  },
  {
   "cell_type": "code",
   "execution_count": 13,
   "id": "e05c4a11-9424-4879-84c7-c618290326f2",
   "metadata": {},
   "outputs": [
    {
     "name": "stdout",
     "output_type": "stream",
     "text": [
      "7\n"
     ]
    }
   ],
   "source": [
    "a1=7\n",
    "print(a1)\n",
    "#numeric value can be placed anywhere accept 1st place in variable nameing"
   ]
  },
  {
   "cell_type": "code",
   "execution_count": 23,
   "id": "e0cde809-927e-4ef5-a688-b108e868cc1a",
   "metadata": {},
   "outputs": [
    {
     "name": "stdout",
     "output_type": "stream",
     "text": [
      "8\n"
     ]
    }
   ],
   "source": [
    "a12345=8\n",
    "print(a12345)"
   ]
  },
  {
   "cell_type": "markdown",
   "id": "807b9dfc-0311-4831-a35b-d0950cc9434c",
   "metadata": {},
   "source": [
    "Can we use special character in variables or in identifiers?\n",
    "__________________________________________________________________________"
   ]
  },
  {
   "cell_type": "code",
   "execution_count": 26,
   "id": "2a97bbd3-80b3-489a-ac6e-18fdd57d574d",
   "metadata": {},
   "outputs": [
    {
     "ename": "SyntaxError",
     "evalue": "incomplete input (2434045158.py, line 2)",
     "output_type": "error",
     "traceback": [
      "\u001b[1;36m  Cell \u001b[1;32mIn[26], line 2\u001b[1;36m\u001b[0m\n\u001b[1;33m    print(#a)\u001b[0m\n\u001b[1;37m             ^\u001b[0m\n\u001b[1;31mSyntaxError\u001b[0m\u001b[1;31m:\u001b[0m incomplete input\n"
     ]
    }
   ],
   "source": [
    "#a=7\n",
    "print(#a)"
   ]
  },
  {
   "cell_type": "code",
   "execution_count": 28,
   "id": "5e4a1865-787a-45e1-8d42-307cdf8aba68",
   "metadata": {},
   "outputs": [
    {
     "ename": "SyntaxError",
     "evalue": "invalid syntax (1978890632.py, line 1)",
     "output_type": "error",
     "traceback": [
      "\u001b[1;36m  Cell \u001b[1;32mIn[28], line 1\u001b[1;36m\u001b[0m\n\u001b[1;33m    &a=9\u001b[0m\n\u001b[1;37m    ^\u001b[0m\n\u001b[1;31mSyntaxError\u001b[0m\u001b[1;31m:\u001b[0m invalid syntax\n"
     ]
    }
   ],
   "source": [
    "&a=9\n",
    "print(&a)"
   ]
  },
  {
   "cell_type": "code",
   "execution_count": 38,
   "id": "e9a328aa-53de-440b-81c7-4643752059f3",
   "metadata": {},
   "outputs": [
    {
     "ename": "SyntaxError",
     "evalue": "incomplete input (1922081355.py, line 2)",
     "output_type": "error",
     "traceback": [
      "\u001b[1;36m  Cell \u001b[1;32mIn[38], line 2\u001b[1;36m\u001b[0m\n\u001b[1;33m    print(var#)\u001b[0m\n\u001b[1;37m               ^\u001b[0m\n\u001b[1;31mSyntaxError\u001b[0m\u001b[1;31m:\u001b[0m incomplete input\n"
     ]
    }
   ],
   "source": [
    "var#=9\n",
    "print(var#)"
   ]
  },
  {
   "cell_type": "code",
   "execution_count": 40,
   "id": "0219eb92-2d8d-4828-8670-b394f01ea176",
   "metadata": {},
   "outputs": [
    {
     "name": "stdout",
     "output_type": "stream",
     "text": [
      "123\n"
     ]
    }
   ],
   "source": [
    "_var_=123\n",
    "print(_var_)"
   ]
  },
  {
   "cell_type": "raw",
   "id": "602b0d1b-ab3a-4159-9fea-6563c843babd",
   "metadata": {},
   "source": [
    "as we can see above two examples showing  syntax error as we cannot assign any special character at any place in nameing of variables except \"_\" "
   ]
  },
  {
   "cell_type": "code",
   "execution_count": null,
   "id": "0d776866-8cd6-4aae-a791-45c5a302c426",
   "metadata": {},
   "outputs": [],
   "source": []
  }
 ],
 "metadata": {
  "kernelspec": {
   "display_name": "Python [conda env:base] *",
   "language": "python",
   "name": "conda-base-py"
  },
  "language_info": {
   "codemirror_mode": {
    "name": "ipython",
    "version": 3
   },
   "file_extension": ".py",
   "mimetype": "text/x-python",
   "name": "python",
   "nbconvert_exporter": "python",
   "pygments_lexer": "ipython3",
   "version": "3.12.7"
  }
 },
 "nbformat": 4,
 "nbformat_minor": 5
}
