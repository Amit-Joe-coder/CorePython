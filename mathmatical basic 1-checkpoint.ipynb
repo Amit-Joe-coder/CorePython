{
 "cells": [
  {
   "cell_type": "markdown",
   "id": "37ebf9ed-8bcd-4fdc-b193-bc4497f133d4",
   "metadata": {},
   "source": [
    "This is for practice of Mathematical Operators "
   ]
  },
  {
   "cell_type": "code",
   "execution_count": 34,
   "id": "4fb653ed-e769-45b9-b27a-c7b425a7b9b4",
   "metadata": {},
   "outputs": [
    {
     "name": "stdout",
     "output_type": "stream",
     "text": [
      "10\n"
     ]
    },
    {
     "data": {
      "text/plain": [
       "int"
      ]
     },
     "execution_count": 34,
     "metadata": {},
     "output_type": "execute_result"
    }
   ],
   "source": [
    "x=7\n",
    "y=3\n",
    "c=x+y\n",
    "print(c)\n",
    "type(c)"
   ]
  },
  {
   "cell_type": "code",
   "execution_count": 36,
   "id": "dbccaa9f-0565-479e-b757-d9bb9e69046b",
   "metadata": {},
   "outputs": [
    {
     "name": "stdout",
     "output_type": "stream",
     "text": [
      "9j\n",
      "<class 'complex'>\n"
     ]
    }
   ],
   "source": [
    "x=5j\n",
    "y=2j+2j\n",
    "p=x+y\n",
    "print(p)\n",
    "print(type(p))"
   ]
  },
  {
   "cell_type": "code",
   "execution_count": 62,
   "id": "4af36021-d55d-4181-a84e-35440265d434",
   "metadata": {},
   "outputs": [
    {
     "data": {
      "text/plain": [
       "6j"
      ]
     },
     "execution_count": 62,
     "metadata": {},
     "output_type": "execute_result"
    }
   ],
   "source": [
    "x=3\n",
    "y=2j\n",
    "a=x*y\n",
    "a"
   ]
  },
  {
   "cell_type": "code",
   "execution_count": 67,
   "id": "ae206414-b2bd-479e-8ed8-2e922b2d887d",
   "metadata": {},
   "outputs": [
    {
     "name": "stdout",
     "output_type": "stream",
     "text": [
      "<class 'complex'>\n"
     ]
    },
    {
     "data": {
      "text/plain": [
       "(-12+0j)"
      ]
     },
     "execution_count": 67,
     "metadata": {},
     "output_type": "execute_result"
    }
   ],
   "source": [
    "x=6j\n",
    "y=2j\n",
    "p=x*y\n",
    "print(type(p))\n",
    "p"
   ]
  },
  {
   "cell_type": "code",
   "execution_count": 71,
   "id": "afcc1fd2-b23c-44bb-9e43-7dc59e28252a",
   "metadata": {},
   "outputs": [
    {
     "name": "stdout",
     "output_type": "stream",
     "text": [
      "<class 'int'>\n",
      "91\n"
     ]
    }
   ],
   "source": [
    "x=2\n",
    "y=89\n",
    "print(type(x+y))\n",
    "print(x+y)"
   ]
  },
  {
   "cell_type": "code",
   "execution_count": 15,
   "id": "8975497a-6b7f-48e3-adfc-a26681de9461",
   "metadata": {},
   "outputs": [
    {
     "name": "stdout",
     "output_type": "stream",
     "text": [
      "-3\n",
      "3\n",
      "<class 'int'>\n",
      "<class 'int'>\n",
      "<class 'int'>\n",
      "<class 'NoneType'>\n"
     ]
    }
   ],
   "source": [
    "z=7\n",
    "k=10\n",
    "a=(z-k)\n",
    "c=print(a)\n",
    "b=print(k-z)\n",
    "print(type(z))\n",
    "print(type(k))\n",
    "print(type(a))\n",
    "print(type(c)) #In this it gives output as \"nonetype\", because c variable take two value i.e a and print()"
   ]
  },
  {
   "cell_type": "code",
   "execution_count": 97,
   "id": "d1a009f0-168c-4047-9a61-19e274688eb5",
   "metadata": {},
   "outputs": [
    {
     "data": {
      "text/plain": [
       "36"
      ]
     },
     "execution_count": 97,
     "metadata": {},
     "output_type": "execute_result"
    }
   ],
   "source": [
    "c=9\n",
    "a=4\n",
    "p=a*c\n",
    "p"
   ]
  },
  {
   "cell_type": "code",
   "execution_count": 113,
   "id": "a43871db-fafa-40f9-9543-86de6553b3ea",
   "metadata": {},
   "outputs": [
    {
     "name": "stdout",
     "output_type": "stream",
     "text": [
      "<class 'float'>\n",
      "8.0\n"
     ]
    }
   ],
   "source": [
    "p=96   #This gives the float value means decimal as well\n",
    "k=12\n",
    "g=p/k\n",
    "print(type(g))\n",
    "print(g)\n"
   ]
  },
  {
   "cell_type": "code",
   "execution_count": 158,
   "id": "ae02055c-6a3c-404b-9ee7-79248e1383eb",
   "metadata": {},
   "outputs": [
    {
     "name": "stdout",
     "output_type": "stream",
     "text": [
      "2\n",
      "<class 'int'>\n"
     ]
    }
   ],
   "source": [
    "k=1280  #this operator always gives reminder and always integer\n",
    "h=3\n",
    "g=k%h\n",
    "print(g)\n",
    "print(type(g))"
   ]
  },
  {
   "cell_type": "code",
   "execution_count": 36,
   "id": "7240d812-f130-4523-a269-c3f7bda2a72b",
   "metadata": {},
   "outputs": [
    {
     "name": "stdout",
     "output_type": "stream",
     "text": [
      "2\n",
      "<class 'int'>\n"
     ]
    }
   ],
   "source": [
    "h=30 #this gives integer value , this is called floor division\n",
    "p=15\n",
    "k=h//p\n",
    "print(k)\n",
    "print(type(k))"
   ]
  },
  {
   "cell_type": "code",
   "execution_count": 19,
   "id": "af964885-d7d6-43c8-b1f8-e81a62989d88",
   "metadata": {},
   "outputs": [
    {
     "name": "stdout",
     "output_type": "stream",
     "text": [
      "42\n"
     ]
    }
   ],
   "source": [
    "#Using  single * for multiplication\n",
    "a=6\n",
    "b=7\n",
    "print(a*b)"
   ]
  },
  {
   "cell_type": "code",
   "execution_count": 46,
   "id": "528ebcd8-2ee2-4095-b4d0-11f5f80f4e3d",
   "metadata": {},
   "outputs": [
    {
     "name": "stdout",
     "output_type": "stream",
     "text": [
      "3125\n"
     ]
    }
   ],
   "source": [
    "# Using double ** is for degree or power\n",
    "a=5\n",
    "b=5\n",
    "print(a**b) "
   ]
  },
  {
   "cell_type": "code",
   "execution_count": null,
   "id": "80c534ce-3b22-4889-95f0-903c152f62ae",
   "metadata": {},
   "outputs": [],
   "source": []
  },
  {
   "cell_type": "code",
   "execution_count": null,
   "id": "6c2094b6-fc82-4f15-95d1-a6f45c4cd020",
   "metadata": {},
   "outputs": [],
   "source": []
  }
 ],
 "metadata": {
  "kernelspec": {
   "display_name": "Python [conda env:base] *",
   "language": "python",
   "name": "conda-base-py"
  },
  "language_info": {
   "codemirror_mode": {
    "name": "ipython",
    "version": 3
   },
   "file_extension": ".py",
   "mimetype": "text/x-python",
   "name": "python",
   "nbconvert_exporter": "python",
   "pygments_lexer": "ipython3",
   "version": "3.12.7"
  }
 },
 "nbformat": 4,
 "nbformat_minor": 5
}
